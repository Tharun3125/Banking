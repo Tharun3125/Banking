{
 "cells": [
  {
   "cell_type": "code",
   "execution_count": 1,
   "metadata": {},
   "outputs": [
    {
     "name": "stdout",
     "output_type": "stream",
     "text": [
      "$1000 deposited successfully. New balance: $1000.00\n",
      "Current balance: $1000.00\n",
      "$200 withdrawn successfully. New balance: $800.00\n",
      "Current balance: $800.00\n",
      "$40.0 deposited successfully. New balance: $840.00\n",
      "Interest added: $40.00\n",
      "Current balance: $840.00\n"
     ]
    }
   ],
   "source": [
    "class BankAccount:\n",
    "    def __init__(self, owner, password):\n",
    "        self.owner = owner\n",
    "        self.__password = password  # Private attribute\n",
    "        self.__balance = 0.0  # Private attribute\n",
    "\n",
    "    def check_password(self, password):\n",
    "        return self.__password == password\n",
    "\n",
    "    def deposit(self, amount):\n",
    "        if amount > 0:\n",
    "            self.__balance += amount\n",
    "            print(f\"${amount} deposited successfully. New balance: ${self.__balance:.2f}\")\n",
    "        else:\n",
    "            print(\"Deposit amount must be positive.\")\n",
    "\n",
    "    def withdraw(self, amount, password):\n",
    "        if not self.check_password(password):\n",
    "            print(\"Incorrect password. Withdrawal failed.\")\n",
    "            return\n",
    "        if amount > self.__balance:\n",
    "            print(\"Insufficient funds.\")\n",
    "        elif amount <= 0:\n",
    "            print(\"Withdrawal amount must be positive.\")\n",
    "        else:\n",
    "            self.__balance -= amount\n",
    "            print(f\"${amount} withdrawn successfully. New balance: ${self.__balance:.2f}\")\n",
    "\n",
    "    def get_balance(self, password):\n",
    "        if self.check_password(password):\n",
    "            return f\"Current balance: ${self.__balance:.2f}\"\n",
    "        else:\n",
    "            return \"Incorrect password. Unable to access balance.\"\n",
    "\n",
    "\n",
    "class SavingsAccount(BankAccount):\n",
    "    def __init__(self, owner, password):\n",
    "        super().__init__(owner, password)\n",
    "\n",
    "    def add_interest(self, interest_rate):\n",
    "        interest = self._BankAccount__balance * interest_rate / 100\n",
    "        self.deposit(interest)\n",
    "        print(f\"Interest added: ${interest:.2f}\")\n",
    "\n",
    "\n",
    "# Example usage\n",
    "def main():\n",
    "    account = SavingsAccount(\"Alice\", \"mypassword\")\n",
    "\n",
    "    # Set initial balance\n",
    "    account.deposit(1000)\n",
    "\n",
    "    # Check balance\n",
    "    print(account.get_balance(\"mypassword\"))\n",
    "\n",
    "    # Withdraw money\n",
    "    account.withdraw(200, \"mypassword\")\n",
    "\n",
    "    # Check balance again\n",
    "    print(account.get_balance(\"mypassword\"))\n",
    "\n",
    "    # Add interest\n",
    "    account.add_interest(5)  # Add 5% interest\n",
    "\n",
    "    # Check final balance\n",
    "    print(account.get_balance(\"mypassword\"))\n",
    "\n",
    "\n",
    "if __name__ == \"__main__\":\n",
    "    main()\n"
   ]
  },
  {
   "cell_type": "code",
   "execution_count": null,
   "metadata": {},
   "outputs": [],
   "source": []
  }
 ],
 "metadata": {
  "kernelspec": {
   "display_name": "Python 3",
   "language": "python",
   "name": "python3"
  },
  "language_info": {
   "codemirror_mode": {
    "name": "ipython",
    "version": 3
   },
   "file_extension": ".py",
   "mimetype": "text/x-python",
   "name": "python",
   "nbconvert_exporter": "python",
   "pygments_lexer": "ipython3",
   "version": "3.12.4"
  }
 },
 "nbformat": 4,
 "nbformat_minor": 2
}
